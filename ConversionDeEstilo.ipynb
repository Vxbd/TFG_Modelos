{
 "cells": [
  {
   "cell_type": "code",
   "execution_count": 12,
   "id": "b221b0f4",
   "metadata": {},
   "outputs": [
    {
     "name": "stdout",
     "output_type": "stream",
     "text": [
      "('Will wearing an ankle brace help heal achilles tendonitis?', 'False')0\n",
      "('Is a tepid sponge bath a good way to reduce fever in children?', 'False')1\n",
      "('Can folic acid help improve cognition and treat dementia?', 'False')2\n",
      "('Does duct tape work for wart removal?', 'False')3\n",
      "('Should I apply ice to a burn?', 'False')4\n",
      "('Can vitamin b12 and sun exposure together help treat vitiligo?', 'True')5\n",
      "('Does yoga improve the management of asthma?', 'True')6\n",
      "('Is starving a fever effective?', 'False')7\n",
      "('Does selenium help prevent cancer?', 'False')8\n",
      "('Will taking birth control pills treat an ovarian cyst?', 'False')9\n",
      "('Will taking zinc supplements improve pregnancy? ', 'False')10\n",
      "('Can evening primrose oil help treat eczema?', 'False')11\n",
      "('Do ankle braces help heal an ankle fracture? ', 'True')12\n",
      "('Can applying vitamin E cream remove skin scars?', 'False')13\n",
      "('Can magnesium help prevent migraine?', 'True')14\n",
      "('Does exercise help manage diabetes?', 'True')15\n",
      "('Can fermented milk help mitigate high blood pressure?', 'False')16\n",
      "('Can dupixent treat eczema?', 'True')17\n",
      "('Does yoga help reduce pain from arthritis and improve physical function?', 'True')18\n",
      "('Can the drug Imitrex (sumatriptan) treat acute migraine attacks?', 'True')19\n",
      "('Will buying a light therapy lamp help treat depression? ', 'True')20\n",
      "('Does Aleve relieve migraine headaches?', 'False')21\n",
      "('Can I get rid of a pimple overnight by applying toothpaste?', 'False')22\n",
      "('Can chondroitin help relieve the pain of osteoarthritis?', 'True')23\n",
      "('Can omega-3 help manage hypertriglyceridemia? ', 'True')24\n",
      "('Can probiotics prevent respiratory infections?', 'True')25\n",
      "('Can aromatherapy massage help manage rheumatoid arthritis?', 'True')26\n",
      "('Does steam from a shower help croup?', 'False')27\n",
      "('Can minoxidil treat hair loss?', 'True')28\n",
      "('Is the Hoxsey treatment a good cure for cancer?', 'False')29\n",
      "('Can l-theanine supplements reduce stress and anxiety?', 'True')30\n",
      "('Does inhaling steam help treat common cold?', 'False')31\n",
      "('Does exercise improve the symptoms of depression? ', 'True')32\n",
      "('Can I remove a tick by covering it with Vaseline?', 'False')33\n",
      "('Can applying mayonnaise help get rid of lice?', 'False')34\n",
      "('Can eating dates help manage iron deficiency anemia?', 'True')35\n",
      "('Will drinking vinegar dissolve a stuck fish bone?', 'False')36\n",
      "('Can zinc help treat the common cold?', 'True')37\n",
      "('Can copper bracelets reduce the pain of arthritis?', 'False')38\n",
      "(\"Can fungal creams treat athlete's foot?\", 'True')39\n",
      "('Does cocoa butter help reduce pregnancy stretch marks?', 'False')40\n",
      "('Can probiotics prevent diarrhea caused by antibiotics in children?', 'True')41\n",
      "('Does Tylenol manage the symptoms of osteoarthritis? ', 'True')42\n",
      "('Can music therapy help manage depression?', 'True')43\n",
      "('Can omega-3 treat borderline personality disorder in women?', 'True')44\n",
      "('Can vitamin D supplements improve the management of asthma?', 'True')45\n",
      "('Will feeding soy formula to my baby prevent the development of allergies?', 'False')46\n",
      "('Does chitosan help lose body weight?', 'False')47\n",
      "('Will at-home exercises manage hip osteoarthritis pain?', 'True')48\n",
      "('Will taking antioxidant supplements treat fertility problems? ', 'False')49\n"
     ]
    }
   ],
   "source": [
    "from xml.dom import minidom\n",
    "import xml.etree.ElementTree as ET\n",
    "import re\n",
    "\n",
    "#Abrimos o ficheiro\n",
    "doc = minidom.parse(\"./misinfo-2021-topics.xml\")\n",
    "\n",
    "#Creeamos a lista de pares descripcion,stance\n",
    "pares = dict()\n",
    "\n",
    "#Cargamos os nodos de cada tipo\n",
    "nodes_descriptions = doc.getElementsByTagName('description')\n",
    "nodes_stnaces = doc.getElementsByTagName('stance')\n",
    "\n",
    "#Creamos as listas onde almacenamos os elementos\n",
    "descriptions = []\n",
    "stances = []\n",
    "\n",
    "#Percorremos os nodos extraendo os datos\n",
    "for description in nodes_descriptions:\n",
    "    descriptions.append(description.firstChild.data)\n",
    "for stance in nodes_stnaces:\n",
    "    stances.append(stance.firstChild.data)\n",
    "\n",
    "#Creamos os pores e introducimolos na lista\n",
    "for i in range(len(descriptions)):\n",
    "    if stances[i] == \"helpful\":\n",
    "        stances[i] = 'True'\n",
    "    else:\n",
    "        stances[i] = 'False'\n",
    "    pares[descriptions[i]] = (descriptions[i], stances[i])\n",
    "    \n",
    "count = 0\n",
    "for par in pares.values():\n",
    "    print(str(par) + str(count))\n",
    "    count = count +1"
   ]
  },
  {
   "cell_type": "markdown",
   "id": "4a959395",
   "metadata": {},
   "source": [
    "## Casos de preguntas"
   ]
  },
  {
   "cell_type": "code",
   "execution_count": 13,
   "id": "5ad85556",
   "metadata": {},
   "outputs": [],
   "source": [
    "variantes = set()\n",
    "lista = pares.values()"
   ]
  },
  {
   "cell_type": "code",
   "execution_count": 14,
   "id": "619757ed",
   "metadata": {},
   "outputs": [],
   "source": [
    "questions = pares"
   ]
  },
  {
   "cell_type": "code",
   "execution_count": 15,
   "id": "b9aafe34",
   "metadata": {},
   "outputs": [],
   "source": [
    "for element in lista:\n",
    "    variantes.add(element[0].split(\" \")[0])"
   ]
  },
  {
   "cell_type": "code",
   "execution_count": 16,
   "id": "1c3c2d7e",
   "metadata": {},
   "outputs": [
    {
     "data": {
      "text/plain": [
       "{'Can', 'Do', 'Does', 'Is', 'Should', 'Will'}"
      ]
     },
     "execution_count": 16,
     "metadata": {},
     "output_type": "execute_result"
    }
   ],
   "source": [
    "variantes"
   ]
  },
  {
   "cell_type": "markdown",
   "id": "8fc1b435",
   "metadata": {},
   "source": [
    "## Creamos a función de conversión"
   ]
  },
  {
   "cell_type": "code",
   "execution_count": 17,
   "id": "ee215055",
   "metadata": {},
   "outputs": [],
   "source": [
    "verbs = ['help', 'improve', 'relieve', 'treat', 'remove', 'reduce',\n",
    "         'work', 'can', 'prevent', 'manage', 'apply', 'dissolve']"
   ]
  },
  {
   "cell_type": "code",
   "execution_count": 39,
   "id": "857a4a8b",
   "metadata": {},
   "outputs": [],
   "source": [
    "'''\n",
    "This function generates the hand-crafted expression from the query using the answer field \n",
    "'''\n",
    "def generate_aligment(topic):\n",
    "    description = questions[str(topic)][0] \n",
    "    description = re.sub('[^A-Za-z0-9-\\s]+', '', description)\n",
    "    l = description.split()\n",
    "    \n",
    "    aux = l[0]\n",
    "    #l.remove(l[0])\n",
    "    #l.insert(-2, aux)\n",
    "    \n",
    "    if l[0] == \"Can\" or l[0] == \"Will\" or l[0] == \"Should\":\n",
    "        l.remove(l[0])\n",
    "        for word in l:\n",
    "            if word in verbs:\n",
    "                l.insert(l.index(word), aux.lower())\n",
    "                break\n",
    "        result = ' '.join(l)\n",
    "    elif l[0] == \"Do\":\n",
    "        l.remove(l[0])\n",
    "        result = ' '.join(l)\n",
    "    elif l[0] == \"Does\":\n",
    "        l.remove(l[0])\n",
    "        for word in l:\n",
    "            if word in verbs:\n",
    "                pos = l.index(word)\n",
    "                l[pos] = l[pos] + 's'\n",
    "                break\n",
    "        result = ' '.join(l)\n",
    "    elif l[0] == \"Is\":\n",
    "        l.remove(l[0])\n",
    "        for i in range(len(l)):\n",
    "            if l[i] == 'a':\n",
    "                if i != 0:\n",
    "                    l.insert(i, aux.lower())\n",
    "                    break\n",
    "        result = ' '.join(l)    \n",
    "    \n",
    "    result = ' '.join(l)\n",
    "    return result"
   ]
  },
  {
   "cell_type": "code",
   "execution_count": 40,
   "id": "3bbce260",
   "metadata": {},
   "outputs": [
    {
     "name": "stdout",
     "output_type": "stream",
     "text": [
      "Is a tepid sponge bath a good way to reduce fever in children?\n",
      "Res: a tepid sponge bath is a good way to reduce fever in children\n",
      "Is starving a fever effective?\n",
      "Res: starving is a fever effective\n",
      "Is the Hoxsey treatment a good cure for cancer?\n",
      "Res: the Hoxsey treatment is a good cure for cancer\n"
     ]
    }
   ],
   "source": [
    "for desc in descriptions:\n",
    "    if desc.split()[0] == \"Is\":\n",
    "        print(desc)\n",
    "        print(\"Res: \" + generate_aligment(desc))"
   ]
  },
  {
   "cell_type": "code",
   "execution_count": 41,
   "id": "701c26f3",
   "metadata": {
    "scrolled": true
   },
   "outputs": [
    {
     "data": {
      "text/plain": [
       "'a tepid sponge bath is a good way to reduce fever in children'"
      ]
     },
     "execution_count": 41,
     "metadata": {},
     "output_type": "execute_result"
    }
   ],
   "source": [
    "generate_aligment(descriptions[1])"
   ]
  },
  {
   "cell_type": "code",
   "execution_count": 42,
   "id": "c7a83692",
   "metadata": {},
   "outputs": [
    {
     "data": {
      "text/plain": [
       "3"
      ]
     },
     "execution_count": 42,
     "metadata": {},
     "output_type": "execute_result"
    }
   ],
   "source": [
    "aux = ['a', 'b', 'a']\n",
    "len(aux)"
   ]
  },
  {
   "cell_type": "code",
   "execution_count": 43,
   "id": "32302930",
   "metadata": {},
   "outputs": [
    {
     "name": "stdout",
     "output_type": "stream",
     "text": [
      "Will wearing an ankle brace help heal achilles tendonitis?\n",
      "Res: wearing an ankle brace will help heal achilles tendonitis\n",
      "Is a tepid sponge bath a good way to reduce fever in children?\n",
      "Res: a tepid sponge bath is a good way to reduce fever in children\n",
      "Can folic acid help improve cognition and treat dementia?\n",
      "Res: folic acid can help improve cognition and treat dementia\n",
      "Does duct tape work for wart removal?\n",
      "Res: duct tape works for wart removal\n",
      "Should I apply ice to a burn?\n",
      "Res: I should apply ice to a burn\n",
      "Can vitamin b12 and sun exposure together help treat vitiligo?\n",
      "Res: vitamin b12 and sun exposure together can help treat vitiligo\n",
      "Does yoga improve the management of asthma?\n",
      "Res: yoga improves the management of asthma\n",
      "Is starving a fever effective?\n",
      "Res: starving is a fever effective\n",
      "Does selenium help prevent cancer?\n",
      "Res: selenium helps prevent cancer\n",
      "Will taking birth control pills treat an ovarian cyst?\n",
      "Res: taking birth control pills will treat an ovarian cyst\n",
      "Will taking zinc supplements improve pregnancy? \n",
      "Res: taking zinc supplements will improve pregnancy\n",
      "Can evening primrose oil help treat eczema?\n",
      "Res: evening primrose oil can help treat eczema\n",
      "Do ankle braces help heal an ankle fracture? \n",
      "Res: ankle braces help heal an ankle fracture\n",
      "Can applying vitamin E cream remove skin scars?\n",
      "Res: applying vitamin E cream can remove skin scars\n",
      "Can magnesium help prevent migraine?\n",
      "Res: magnesium can help prevent migraine\n",
      "Does exercise help manage diabetes?\n",
      "Res: exercise helps manage diabetes\n",
      "Can fermented milk help mitigate high blood pressure?\n",
      "Res: fermented milk can help mitigate high blood pressure\n",
      "Can dupixent treat eczema?\n",
      "Res: dupixent can treat eczema\n",
      "Does yoga help reduce pain from arthritis and improve physical function?\n",
      "Res: yoga helps reduce pain from arthritis and improve physical function\n",
      "Can the drug Imitrex (sumatriptan) treat acute migraine attacks?\n",
      "Res: the drug Imitrex sumatriptan can treat acute migraine attacks\n",
      "Will buying a light therapy lamp help treat depression? \n",
      "Res: buying a light therapy lamp will help treat depression\n",
      "Does Aleve relieve migraine headaches?\n",
      "Res: Aleve relieves migraine headaches\n",
      "Can I get rid of a pimple overnight by applying toothpaste?\n",
      "Res: I get rid of a pimple overnight by applying toothpaste\n",
      "Can chondroitin help relieve the pain of osteoarthritis?\n",
      "Res: chondroitin can help relieve the pain of osteoarthritis\n",
      "Can omega-3 help manage hypertriglyceridemia? \n",
      "Res: omega-3 can help manage hypertriglyceridemia\n",
      "Can probiotics prevent respiratory infections?\n",
      "Res: probiotics can prevent respiratory infections\n",
      "Can aromatherapy massage help manage rheumatoid arthritis?\n",
      "Res: aromatherapy massage can help manage rheumatoid arthritis\n",
      "Does steam from a shower help croup?\n",
      "Res: steam from a shower helps croup\n",
      "Can minoxidil treat hair loss?\n",
      "Res: minoxidil can treat hair loss\n",
      "Is the Hoxsey treatment a good cure for cancer?\n",
      "Res: the Hoxsey treatment is a good cure for cancer\n",
      "Can l-theanine supplements reduce stress and anxiety?\n",
      "Res: l-theanine supplements can reduce stress and anxiety\n",
      "Does inhaling steam help treat common cold?\n",
      "Res: inhaling steam helps treat common cold\n",
      "Does exercise improve the symptoms of depression? \n",
      "Res: exercise improves the symptoms of depression\n",
      "Can I remove a tick by covering it with Vaseline?\n",
      "Res: I can remove a tick by covering it with Vaseline\n",
      "Can applying mayonnaise help get rid of lice?\n",
      "Res: applying mayonnaise can help get rid of lice\n",
      "Can eating dates help manage iron deficiency anemia?\n",
      "Res: eating dates can help manage iron deficiency anemia\n",
      "Will drinking vinegar dissolve a stuck fish bone?\n",
      "Res: drinking vinegar will dissolve a stuck fish bone\n",
      "Can zinc help treat the common cold?\n",
      "Res: zinc can help treat the common cold\n",
      "Can copper bracelets reduce the pain of arthritis?\n",
      "Res: copper bracelets can reduce the pain of arthritis\n",
      "Can fungal creams treat athlete's foot?\n",
      "Res: fungal creams can treat athletes foot\n",
      "Does cocoa butter help reduce pregnancy stretch marks?\n",
      "Res: cocoa butter helps reduce pregnancy stretch marks\n",
      "Can probiotics prevent diarrhea caused by antibiotics in children?\n",
      "Res: probiotics can prevent diarrhea caused by antibiotics in children\n",
      "Does Tylenol manage the symptoms of osteoarthritis? \n",
      "Res: Tylenol manages the symptoms of osteoarthritis\n",
      "Can music therapy help manage depression?\n",
      "Res: music therapy can help manage depression\n",
      "Can omega-3 treat borderline personality disorder in women?\n",
      "Res: omega-3 can treat borderline personality disorder in women\n",
      "Can vitamin D supplements improve the management of asthma?\n",
      "Res: vitamin D supplements can improve the management of asthma\n",
      "Will feeding soy formula to my baby prevent the development of allergies?\n",
      "Res: feeding soy formula to my baby will prevent the development of allergies\n",
      "Does chitosan help lose body weight?\n",
      "Res: chitosan helps lose body weight\n",
      "Will at-home exercises manage hip osteoarthritis pain?\n",
      "Res: at-home exercises will manage hip osteoarthritis pain\n",
      "Will taking antioxidant supplements treat fertility problems? \n",
      "Res: taking antioxidant supplements will treat fertility problems\n"
     ]
    }
   ],
   "source": [
    "for desc in descriptions:\n",
    "    print(desc)\n",
    "    print(\"Res: \" + generate_aligment(desc))"
   ]
  },
  {
   "cell_type": "markdown",
   "id": "c2c23f12",
   "metadata": {},
   "source": [
    "## Creamos o csv"
   ]
  },
  {
   "cell_type": "code",
   "execution_count": 44,
   "id": "82eec540",
   "metadata": {},
   "outputs": [],
   "source": [
    "datos = []\n",
    "for par in pares.values():\n",
    "    if par[1] == \"True\":\n",
    "        datos.append( '1,\"' + generate_aligment(par[0]) + '\"')\n",
    "    if par[1] == \"False\":\n",
    "        datos.append( '0,\"' + generate_aligment(par[0]) + '\"')\n",
    "#print(datos)#"
   ]
  },
  {
   "cell_type": "code",
   "execution_count": 45,
   "id": "3304878e",
   "metadata": {},
   "outputs": [],
   "source": [
    "filename = 'missinfo-claims.csv'\n",
    "with open(filename, 'w') as f:\n",
    "    f.write(\"veracity,claims\\n\")\n",
    "    for dato in datos:\n",
    "        f.write(dato+\"\\n\")"
   ]
  },
  {
   "cell_type": "code",
   "execution_count": 46,
   "id": "80407d0a",
   "metadata": {},
   "outputs": [],
   "source": [
    "f.close()"
   ]
  },
  {
   "cell_type": "code",
   "execution_count": null,
   "id": "ed6684c6",
   "metadata": {},
   "outputs": [],
   "source": []
  },
  {
   "cell_type": "code",
   "execution_count": null,
   "id": "2062c794",
   "metadata": {},
   "outputs": [],
   "source": []
  },
  {
   "cell_type": "code",
   "execution_count": null,
   "id": "4ea69fcd",
   "metadata": {},
   "outputs": [],
   "source": []
  }
 ],
 "metadata": {
  "kernelspec": {
   "display_name": "Python 3 (ipykernel)",
   "language": "python",
   "name": "python3"
  },
  "language_info": {
   "codemirror_mode": {
    "name": "ipython",
    "version": 3
   },
   "file_extension": ".py",
   "mimetype": "text/x-python",
   "name": "python",
   "nbconvert_exporter": "python",
   "pygments_lexer": "ipython3",
   "version": "3.8.12"
  }
 },
 "nbformat": 4,
 "nbformat_minor": 5
}
