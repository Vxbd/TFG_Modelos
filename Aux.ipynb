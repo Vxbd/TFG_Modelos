{
 "cells": [
  {
   "cell_type": "code",
   "execution_count": 4,
   "id": "6b290167",
   "metadata": {},
   "outputs": [],
   "source": [
    "execucions = []\n",
    "execucions.append((1922.167643, 8, 2128))\n",
    "execucions.append((3728.079261, 7, 2129))\n",
    "execucions.append((1961.422054, 13, 2145))\n",
    "execucions.append((2192.209638, 12, 2143))\n",
    "execucions.append((2375.433665, 7, 2166))\n",
    "execucions.append((1941.229664, 4, 2070))\n",
    "execucions.append((1924.069167, 5, 2172))\n",
    "execucions.append((1982.049152, 8, 2177))\n",
    "execucions.append((1948.794478, 4, 2194))\n"
   ]
  },
  {
   "cell_type": "code",
   "execution_count": 5,
   "id": "61605702",
   "metadata": {},
   "outputs": [],
   "source": [
    "tempos = []\n",
    "for execucion in execucions:\n",
    "    tempos.append(execucion[0])\n",
    "    \n",
    "n_erros = []\n",
    "for execucion in execucions:\n",
    "    n_erros.append(execucion[1])\n",
    "    \n",
    "n_resultados = []\n",
    "for execucion in execucions:\n",
    "    n_resultados.append(execucion[2])"
   ]
  },
  {
   "cell_type": "code",
   "execution_count": 6,
   "id": "0c5181e1",
   "metadata": {
    "scrolled": true
   },
   "outputs": [
    {
     "name": "stdout",
     "output_type": "stream",
     "text": [
      "TEMPOS -> Mdia: 2219.494969111111 - Desviación: 552.7969646164588\n",
      "ERROS -> Mdia: 7.555555555555555 - Desviación: 3.02254900194121\n",
      "RESULTADOS -> Mdia: 2147.1111111111113 - Desviación: 34.52678330560347\n"
     ]
    }
   ],
   "source": [
    "import numpy as np\n",
    "print(\"TEMPOS -> Mdia: \" + str(np.mean(tempos)) + \" - Desviación: \" + str(np.std(tempos)))\n",
    "print(\"ERROS -> Mdia: \" + str(np.mean(n_erros)) + \" - Desviación: \" + str(np.std(n_erros)))\n",
    "print(\"RESULTADOS -> Mdia: \" + str(np.mean(n_resultados)) + \" - Desviación: \" + str(np.std(n_resultados)))\n",
    "\n",
    "\n",
    "#sorted(execucions, key=lambda execucion : execucion[0])"
   ]
  },
  {
   "cell_type": "code",
   "execution_count": null,
   "id": "c013efdd",
   "metadata": {},
   "outputs": [],
   "source": []
  },
  {
   "cell_type": "code",
   "execution_count": 7,
   "id": "4427d6b1",
   "metadata": {},
   "outputs": [],
   "source": [
    "execucions = []\n",
    "execucions.append((1994.569656, 11, 2182))\n",
    "execucions.append((1994.40438, 10, 2164))\n",
    "execucions.append((2012.018789, 8, 2189))\n",
    "execucions.append((1968.099785, 2, 2199))\n",
    "execucions.append((1933.086078, 12, 2171))\n",
    "execucions.append((1965.075546, 12, 2188))\n",
    "execucions.append((2053.011674, 13, 2183))\n",
    "execucions.append((1995.000983, 12, 2074))\n",
    "\n",
    "\n"
   ]
  },
  {
   "cell_type": "code",
   "execution_count": 8,
   "id": "f30d04f4",
   "metadata": {},
   "outputs": [],
   "source": [
    "tempos = []\n",
    "for execucion in execucions:\n",
    "    tempos.append(execucion[0])\n",
    "    \n",
    "n_erros = []\n",
    "for execucion in execucions:\n",
    "    n_erros.append(execucion[1])\n",
    "    \n",
    "n_resultados = []\n",
    "for execucion in execucions:\n",
    "    n_resultados.append(execucion[2])"
   ]
  },
  {
   "cell_type": "code",
   "execution_count": 9,
   "id": "8a1e1499",
   "metadata": {
    "scrolled": true
   },
   "outputs": [
    {
     "name": "stdout",
     "output_type": "stream",
     "text": [
      "TEMPOS -> Mdia: 1989.408361375 - Desviación: 33.275047578823006\n",
      "ERROS -> Mdia: 10.0 - Desviación: 3.3541019662496847\n",
      "RESULTADOS -> Mdia: 2168.75 - Desviación: 37.21474842048512\n"
     ]
    }
   ],
   "source": [
    "import numpy as np\n",
    "print(\"TEMPOS -> Mdia: \" + str(np.mean(tempos)) + \" - Desviación: \" + str(np.std(tempos)))\n",
    "print(\"ERROS -> Mdia: \" + str(np.mean(n_erros)) + \" - Desviación: \" + str(np.std(n_erros)))\n",
    "print(\"RESULTADOS -> Mdia: \" + str(np.mean(n_resultados)) + \" - Desviación: \" + str(np.std(n_resultados)))\n",
    "\n",
    "\n",
    "#sorted(execucions, key=lambda execucion : execucion[0])"
   ]
  }
 ],
 "metadata": {
  "kernelspec": {
   "display_name": "Python 3 (ipykernel)",
   "language": "python",
   "name": "python3"
  },
  "language_info": {
   "codemirror_mode": {
    "name": "ipython",
    "version": 3
   },
   "file_extension": ".py",
   "mimetype": "text/x-python",
   "name": "python",
   "nbconvert_exporter": "python",
   "pygments_lexer": "ipython3",
   "version": "3.8.13"
  }
 },
 "nbformat": 4,
 "nbformat_minor": 5
}
